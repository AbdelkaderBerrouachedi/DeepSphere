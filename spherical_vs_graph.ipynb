{
 "cells": [
  {
   "cell_type": "markdown",
   "metadata": {},
   "source": [
    "# Spherical harmonics vs graph Fourier modes\n",
    "\n",
    "[Nathanaël Perraudin](http://perraudin.info), [Michaël Defferrard](http://deff.ch), Tomasz Kacprzak"
   ]
  },
  {
   "cell_type": "code",
   "execution_count": null,
   "metadata": {},
   "outputs": [],
   "source": [
    "%load_ext autoreload\n",
    "%autoreload 2\n",
    "%matplotlib notebook"
   ]
  },
  {
   "cell_type": "code",
   "execution_count": null,
   "metadata": {},
   "outputs": [],
   "source": [
    "import os\n",
    "from time import time\n",
    "\n",
    "import numpy as np\n",
    "import matplotlib.pyplot as plt\n",
    "from mpl_toolkits.mplot3d import Axes3D\n",
    "import healpy as hp\n",
    "import pygsp as pg\n",
    "import itertools\n",
    "\n",
    "from scnn import utils"
   ]
  },
  {
   "cell_type": "code",
   "execution_count": null,
   "metadata": {},
   "outputs": [],
   "source": [
    "plt.rcParams['figure.figsize'] = (17, 5)  # (9, 4) for matplotlib notebook\n",
    "\n",
    "nside = 16\n",
    "cm = plt.cm.RdBu_r\n",
    "cm.set_under('w')"
   ]
  },
  {
   "cell_type": "markdown",
   "metadata": {},
   "source": [
    "## 1 Spherical harmonics\n",
    "\n",
    "* Spherical harmonics are indexed by degree (or angular frequency) $\\ell$ and order $m \\in [0, \\ell]$.\n",
    "* $l=0$ is the constant, $l=1$ is the two monopoles, $l=2$ is the three dipoles, etc.\n",
    "* Coefficients are commonly defined as $a_{\\ell m}$.\n",
    "* A spherical harmonic takes value $Y_\\ell^m(\\theta, \\phi)$ in angular direction $(\\theta, \\phi)$.\n",
    "* In HEALPix, as we only deal with maps of real numbers, the representation is complex and the relation $a_{\\ell, m}^* = a_{\\ell, -m}$ holds. As such, to generate all $2\\ell + 1$ orders, one needs to e.g. transform $a_{\\ell m} = 1 + 1j$ and $a_{\\ell m} = 1 - 1j$."
   ]
  },
  {
   "cell_type": "code",
   "execution_count": null,
   "metadata": {},
   "outputs": [],
   "source": [
    "def plot_spherical_harmonic(nside, l, m):\n",
    "\n",
    "    lmax = l\n",
    "    idx = hp.sphtfunc.Alm.getidx(lmax, l, m)\n",
    "    size = hp.sphtfunc.Alm.getsize(lmax, mmax=lmax)\n",
    "    print('{} spherical harmonics for l in [0, {}]'.format(size, lmax))\n",
    "    print('l={}, m={} is at index {}'.format(l, m, idx))\n",
    "\n",
    "    alm = np.zeros(size, dtype=np.complex128)\n",
    "    alm[idx] = 1\n",
    "\n",
    "    map = hp.sphtfunc.alm2map(alm, nside, lmax, verbose=False)\n",
    "    hp.mollview(map, title=\"Spherical harmonic of degree l={} and order m={}\".format(l,m), cmap=cm)\n",
    "    #hp.cartview(map, title=f\"Spherical harmonic l={l}, m={m}\")\n",
    "    with utils.HiddenPrints():\n",
    "        hp.graticule();\n",
    "plot_spherical_harmonic(nside, l=2, m=0)"
   ]
  },
  {
   "cell_type": "markdown",
   "metadata": {},
   "source": [
    "Compute the spherical harmonics up to $\\ell_{max}$ and plot them."
   ]
  },
  {
   "cell_type": "code",
   "execution_count": null,
   "metadata": {},
   "outputs": [],
   "source": [
    "harmonics = utils.compute_spherical_harmonics(nside, lmax=18)\n",
    "harmonics.shape"
   ]
  },
  {
   "cell_type": "code",
   "execution_count": null,
   "metadata": {},
   "outputs": [],
   "source": [
    "def plot_harmonics(harmonics, title=''):\n",
    "    n_harmonics = harmonics.shape[1]\n",
    "    l, m = 0, 0\n",
    "    for idx in range(n_harmonics):\n",
    "        hp.mollview(harmonics[:, idx], \n",
    "                    title='{}: l={}, m={}'.format(title, l, m),\n",
    "                    nest=True,\n",
    "                    sub=(np.sqrt(n_harmonics), np.sqrt(n_harmonics), idx+1),\n",
    "                    max=np.max(np.abs(harmonics)),\n",
    "                    min=-np.max(np.abs(harmonics)),\n",
    "                    cbar=False,\n",
    "                    cmap=cm)\n",
    "        \n",
    "        m += 1\n",
    "        if m > l:\n",
    "            l += 1\n",
    "            m = -l\n",
    "    with utils.HiddenPrints():\n",
    "        hp.graticule();\n",
    "plot_harmonics(harmonics[:, :16], 'Spherical harmonic')\n",
    "plt.savefig('figures/spherical_harmonics.png')"
   ]
  },
  {
   "cell_type": "markdown",
   "metadata": {},
   "source": [
    "## 2 Graph Fourier modes\n",
    "\n",
    "The graph Fourier modes are the eigenvectors of the graph Laplacian.\n",
    "$$L = U \\Lambda U^T$$"
   ]
  },
  {
   "cell_type": "code",
   "execution_count": null,
   "metadata": {},
   "outputs": [],
   "source": [
    "graph = utils.healpix_graph(nside, lap_type='normalized', nest=True, dtype=np.float64)\n",
    "graph.compute_fourier_basis()"
   ]
  },
  {
   "cell_type": "markdown",
   "metadata": {},
   "source": [
    "The weighted adjacency matrix is very sparse. Distance between pixels is not constant."
   ]
  },
  {
   "cell_type": "code",
   "execution_count": null,
   "metadata": {},
   "outputs": [],
   "source": [
    "fig, axes = plt.subplots(1, 2)\n",
    "axes[0].imshow(graph.W.toarray())\n",
    "axes[1].hist(graph.W[graph.W>0].T,30);"
   ]
  },
  {
   "cell_type": "markdown",
   "metadata": {},
   "source": [
    "Fourier modes of the graph."
   ]
  },
  {
   "cell_type": "code",
   "execution_count": null,
   "metadata": {},
   "outputs": [],
   "source": [
    "plot_harmonics(graph.U[:, :16], 'Eigenvector')\n",
    "plt.savefig('figures/graph_eigenvectors.png')"
   ]
  },
  {
   "cell_type": "markdown",
   "metadata": {},
   "source": [
    "The eigenvalues are clearly organized in groups, which corresponds to angular frequencies $\\ell$ of the spherical harmonics."
   ]
  },
  {
   "cell_type": "code",
   "execution_count": null,
   "metadata": {},
   "outputs": [],
   "source": [
    "plt.plot(graph.e[:50], '.-')\n",
    "idx = 0\n",
    "for l in range(7):\n",
    "    plt.text(idx, graph.e[idx] + 0.005, 'l = {}'.format(l))\n",
    "    idx += 2*l + 1\n",
    "plt.savefig('figures/graph_eigenvalues.png')"
   ]
  },
  {
   "cell_type": "markdown",
   "metadata": {},
   "source": [
    "## 3 Spherical harmonics on the graph\n",
    "\n",
    "Todo:\n",
    "* Smoothness of rotated spherical harmonics should be constant."
   ]
  },
  {
   "cell_type": "code",
   "execution_count": null,
   "metadata": {},
   "outputs": [],
   "source": [
    "# Combinatorial Laplacian for the spherical harmonics.\n",
    "graph = utils.healpix_graph(nside, lap_type='combinatorial', nest=True, dtype=np.float64)\n",
    "graph.compute_fourier_basis()"
   ]
  },
  {
   "cell_type": "markdown",
   "metadata": {},
   "source": [
    "Let us try to re-order the spherical harmonic with respect of the graph frequencies"
   ]
  },
  {
   "cell_type": "code",
   "execution_count": null,
   "metadata": {},
   "outputs": [],
   "source": [
    "ind = np.argsort(np.diag(harmonics.T @ graph.L @ harmonics))\n",
    "harmonics_sort = harmonics[:,ind]"
   ]
  },
  {
   "cell_type": "markdown",
   "metadata": {},
   "source": [
    "Spherical harmonics are not exactly orthogonal on the graph."
   ]
  },
  {
   "cell_type": "code",
   "execution_count": null,
   "metadata": {},
   "outputs": [],
   "source": [
    "C_euclidean = harmonics_sort.T @ harmonics_sort\n",
    "C_graph = (harmonics_sort.T @ graph.L @ harmonics_sort) #@ np.diag(1/(graph.e[:harmonics_sort.shape[1]] +0.0001))\n",
    "\n",
    "fig, axes = plt.subplots(1, 2)\n",
    "axes[0].imshow(C_euclidean)\n",
    "axes[1].imshow(C_graph)\n",
    "\n",
    "fig, axes = plt.subplots(1, 2)\n",
    "axes[0].plot(np.diag(C_euclidean))\n",
    "axes[1].plot(np.diag(C_graph), label='diag(F^T L F)')\n",
    "axes[1].plot(graph.e[:harmonics_sort.shape[1]],label='graph eigenvalues')\n",
    "axes[1].legend()"
   ]
  },
  {
   "cell_type": "markdown",
   "metadata": {},
   "source": [
    "## 4 Correspondance of the subspaces\n",
    "\n",
    "* Are the subspaces equivalent?\n",
    "* Is the projection on the subspaces similar?"
   ]
  },
  {
   "cell_type": "code",
   "execution_count": null,
   "metadata": {},
   "outputs": [],
   "source": [
    "lmax = 10\n",
    "n_harmonics = np.sum(np.arange(1, 2*lmax+2, 2))\n",
    "print('{} harmonics for lmax = {}'.format(n_harmonics, lmax))"
   ]
  },
  {
   "cell_type": "code",
   "execution_count": null,
   "metadata": {},
   "outputs": [],
   "source": [
    "C = harmonics[:, :n_harmonics].T @ harmonics[:, :n_harmonics]\n",
    "print(np.linalg.norm(C, ord='fro'))\n",
    "\n",
    "C = graph.U[:, :n_harmonics].T @ graph.U[:, :n_harmonics]\n",
    "print(np.linalg.norm(C, ord='fro'))\n",
    "\n",
    "C = harmonics[:, :n_harmonics].T @ graph.U[:, :n_harmonics]\n",
    "print(np.linalg.norm(C, ord='fro'))\n",
    "\n",
    "plt.imshow(np.abs(C), cmap=plt.cm.gist_heat_r)\n",
    "plt.colorbar()\n",
    "plt.savefig('figures/subspace_harmonics_eigenvectors.png')"
   ]
  },
  {
   "cell_type": "code",
   "execution_count": null,
   "metadata": {},
   "outputs": [],
   "source": [
    "# This corresponds to a low pass filtering\n",
    "\n",
    "n_eigenvectors = 16\n",
    "n_harmonics = 16\n",
    "n_signals = 100\n",
    "n_pixels = harmonics.shape[0]\n",
    "\n",
    "signals = np.random.uniform(size=(n_pixels, n_signals))\n",
    "eigenvectors = graph.U[:, :n_eigenvectors]\n",
    "harmonics_ = harmonics[:, :n_harmonics]\n",
    "\n",
    "signals_sphere = harmonics_ @ harmonics_.T @ signals\n",
    "signals_graph = eigenvectors @ eigenvectors.T @ signals\n",
    "\n",
    "hp.mollview(signals[:, 0], nest=True)\n",
    "hp.mollview(signals_sphere[:, 0], nest=True)\n",
    "hp.mollview(signals_graph[:, 0], nest=True)\n",
    "\n",
    "print(np.linalg.norm(signals_graph - signals_sphere, ord='fro'))"
   ]
  },
  {
   "cell_type": "code",
   "execution_count": null,
   "metadata": {},
   "outputs": [],
   "source": [
    "fig = plt.figure(figsize=(10,10))\n",
    "ax = fig.add_subplot(111, projection='3d')\n",
    "ax.scatter(graph.U[:,1], graph.U[:,2], graph.U[:,3], c=graph.d)"
   ]
  },
  {
   "cell_type": "code",
   "execution_count": null,
   "metadata": {},
   "outputs": [],
   "source": [
    "fig = plt.figure(figsize=(10,10))\n",
    "ax = fig.add_subplot(111, projection='3d')\n",
    "ax.scatter(harmonics[:,1], harmonics[:,2], harmonics[:,3], c=graph.d)"
   ]
  },
  {
   "cell_type": "markdown",
   "metadata": {},
   "source": [
    "## 5 Accuracy of the filtering\n",
    "\n",
    "We don't care if the Fourier modes are not exactly the spherical harmonics, but we want the Laplacian operator to be close. Or, at least, the filtering operations to be close.\n",
    "\n",
    "* Does applying L change the spectrum (from spherical harmonics) in a meaningful way?\n",
    "\n",
    "Functions:\n",
    "* `healpy.sphtfunc.map2alm` => arbitrary smoothing\n",
    "* `healpy.sphtfunc.` => Gaussian smoothing"
   ]
  },
  {
   "cell_type": "code",
   "execution_count": null,
   "metadata": {},
   "outputs": [],
   "source": [
    "nside = 256\n",
    "\n",
    "map, _, _ = hp.read_map('data/COM_CMB_IQU-smica_1024_R2.02_full.fits', field=(0, 1, 3), nest=True)\n",
    "map = hp.ud_grade(map, nside_out=nside, order_in='NESTED')\n",
    "map = hp.reorder(map, inp='NESTED', out='RING')\n",
    "# map = np.random.normal(size=hp.nside2npix(nside))\n",
    "\n",
    "lmax = 3 * nside - 1\n",
    "\n",
    "print(\"We'll compute {} frequencies\".format(lmax))\n",
    "hp.mollview(map)"
   ]
  },
  {
   "cell_type": "code",
   "execution_count": null,
   "metadata": {},
   "outputs": [],
   "source": [
    "alm = hp.sphtfunc.map2alm(map)\n",
    "plt.plot(np.abs(alm))\n",
    "\n",
    "l, m = hp.Alm.getlm(lmax=lmax)\n",
    "print(list(zip(l, m))[:100])"
   ]
  },
  {
   "cell_type": "code",
   "execution_count": null,
   "metadata": {},
   "outputs": [],
   "source": [
    "cl = hp.sphtfunc.anafast(map)\n",
    "plt.plot(cl)"
   ]
  },
  {
   "cell_type": "code",
   "execution_count": null,
   "metadata": {},
   "outputs": [],
   "source": [
    "graph = utils.healpix_graph(nside, lap_type='normalized', nest=True, dtype=np.float64)\n",
    "map = graph.L @ map"
   ]
  },
  {
   "cell_type": "code",
   "execution_count": null,
   "metadata": {},
   "outputs": [],
   "source": [
    "alm = hp.sphtfunc.map2alm(map)\n",
    "plt.plot(np.abs(alm))"
   ]
  },
  {
   "cell_type": "code",
   "execution_count": null,
   "metadata": {},
   "outputs": [],
   "source": [
    "cl = hp.sphtfunc.anafast(map)\n",
    "plt.plot(cl)"
   ]
  },
  {
   "cell_type": "markdown",
   "metadata": {},
   "source": [
    "## 6 Spherical power spectrum\n",
    "\n",
    "The angular power spectrum is given by\n",
    "$$ \\hat{C}_\\ell = \\frac{1}{2\\ell + 1} \\sum_m |\\hat{a}_{\\ell m}|^2 $$\n",
    "As such, $\\hat{C}_\\ell$ is the expected variance of the $\\hat{a}_{\\ell m}$ at order $\\ell$.\n",
    "It also implies the standard result that the total power at the angular wavenumber $\\ell$ is $(2\\ell + 1) \\hat{C}_\\ell$ because there are $2\\ell + 1$ modes for each $\\ell$.\n",
    "\n",
    "Todo:\n",
    "* speed\n",
    "* accuracy"
   ]
  },
  {
   "cell_type": "code",
   "execution_count": null,
   "metadata": {},
   "outputs": [],
   "source": [
    "psd = hp.sphtfunc.anafast(map, lmax=lmax)\n",
    "plt.semilogy(psd);"
   ]
  },
  {
   "cell_type": "markdown",
   "metadata": {},
   "source": [
    "## 7 Filtering speed\n",
    "\n",
    "Todo:\n",
    "* filtering with tensorflow / numpy / pytorch\n",
    "* Similarly for a part of the sphere\n",
    "* speed and accuracy w.r.t. polynomial order\n",
    "\n",
    "Functions:\n",
    "* `healpy.sphtfunc.almxfl` => arbitrary smoothing\n",
    "* `healpy.sphtfunc.smoothing` => Gaussian smoothing"
   ]
  },
  {
   "cell_type": "code",
   "execution_count": null,
   "metadata": {},
   "outputs": [],
   "source": [
    "nside = 256\n",
    "\n",
    "map, _, _ = hp.read_map('data/COM_CMB_IQU-smica_1024_R2.02_full.fits', field=(0, 1, 3), nest=True)\n",
    "map = hp.ud_grade(map, nside_out=nside, order_in='NESTED')\n",
    "map = hp.reorder(map, inp='NESTED', out='RING')\n",
    "\n",
    "hp.mollview(map)"
   ]
  },
  {
   "cell_type": "markdown",
   "metadata": {},
   "source": [
    "Smoothing by filtering with spherical harmonics, i.e. do an element-wise multilication in the spectral domain after a spherical transform."
   ]
  },
  {
   "cell_type": "code",
   "execution_count": null,
   "metadata": {},
   "outputs": [],
   "source": [
    "smooth = hp.sphtfunc.smoothing(map, sigma=0.01, verbose=False)\n",
    "hp.mollview(smooth)"
   ]
  },
  {
   "cell_type": "markdown",
   "metadata": {},
   "source": [
    "Smoothing by filtering on graphs."
   ]
  },
  {
   "cell_type": "code",
   "execution_count": null,
   "metadata": {},
   "outputs": [],
   "source": [
    "graph = utils.healpix_graph(nside, lap_type='normalized', nest=True, dtype=np.float64)\n",
    "graph.estimate_lmax()\n",
    "\n",
    "map = hp.reorder(map, inp='RING', out='NESTED')\n",
    "\n",
    "filter = pg.filters.Heat(graph, tau=30)\n",
    "filter = filter.approximate('Chebyshev', order=10)\n",
    "filter.plot()\n",
    "\n",
    "smooth = filter.filter(map)\n",
    "hp.mollview(smooth, nest=True)"
   ]
  },
  {
   "cell_type": "markdown",
   "metadata": {},
   "source": [
    "Compare the speed of both approaches.\n",
    "\n",
    "We limit OpenMP (used by HEALPix) to use a single core as graph convolutions are not parallelized yet. While the mutliplication of sparse matrices with dense vectors can be parallelized, it is not implemented by scipy. It's hopefully implemented in tensorflow or pytorch."
   ]
  },
  {
   "cell_type": "code",
   "execution_count": null,
   "metadata": {},
   "outputs": [],
   "source": [
    "nsides = [64, 128, 256, 512, 1024, 2048]  # Max 1024 for the real Planck map.\n",
    "\n",
    "# Polynomial orders for graph filtering.\n",
    "orders = [5, 10, 20]\n",
    "\n",
    "# Number of OpenMP threads for spherical harmonics.\n",
    "os.environ['OMP_NUM_THREADS'] = '1'\n",
    "\n",
    "times = np.zeros((len(nsides), len(orders)+1))\n",
    "\n",
    "for i, nside in enumerate(nsides):\n",
    "\n",
    "    # map = hp.ud_grade(map_cmb, nside_out=nside, order_in='NESTED')\n",
    "    map = np.random.normal(size=hp.nside2npix(nside))\n",
    "\n",
    "    # Filtering on the graph. Need the nested ordering.\n",
    "    graph = utils.healpix_graph(nside, lap_type='normalized', nest=True, dtype=np.float64)\n",
    "    graph.estimate_lmax()\n",
    "    for j, order in enumerate(orders):\n",
    "        filter = pg.filters.Heat(graph, tau=30).approximate('Chebyshev', order=order)\n",
    "        t = time()\n",
    "        smooth = filter.filter(map)\n",
    "        times[i, j] = time() - t\n",
    "\n",
    "    # Filtering with the spherical harmonics. Need the ring ordering.\n",
    "    map = hp.reorder(map, inp='NESTED', out='RING')\n",
    "    t = time()\n",
    "    hp.sphtfunc.smoothing(map, sigma=0.01, verbose=False)\n",
    "    times[i, -1] = time() - t\n",
    "\n",
    "# Reset OpenMP to use all available cores.\n",
    "del os.environ['OMP_NUM_THREADS']"
   ]
  },
  {
   "cell_type": "code",
   "execution_count": null,
   "metadata": {},
   "outputs": [],
   "source": [
    "# Save results for the plot in the paper.\n",
    "np.savez('results/filtering_speed.npz', nsides=nsides, orders=orders, times=times)"
   ]
  },
  {
   "cell_type": "code",
   "execution_count": null,
   "metadata": {},
   "outputs": [],
   "source": [
    "fig, ax = plt.subplots()\n",
    "npix = [hp.nside2npix(nside) for nside in nsides]\n",
    "ax.loglog(npix, times[:, :-1], '.-')\n",
    "ax.loglog(npix, times[:, -1], '.-k', linewidth=3, markersize=10)\n",
    "labels = ['Filtering with graphs, polynomial order {}'.format(order) for order in orders]\n",
    "labels += ['Filtering with spherical harmonics']\n",
    "ax.legend(labels)\n",
    "for i in range(len(nsides)):\n",
    "    ax.text(npix[i], times[i, -1] * 1.8, 'Nside = {}'.format(nsides[i]), horizontalalignment='center')\n",
    "ax.set_ylim(0.8 * times.min(), 3 * times.max())\n",
    "ax.set_xlabel('Number of pixels')\n",
    "ax.set_ylabel('Processing time [s]')\n",
    "ax.set_title('Single core performance')\n",
    "#ax.ticklabel_format(style='sci', axis='x')\n",
    "fig.savefig('figures/filtering_speed.png')"
   ]
  },
  {
   "cell_type": "code",
   "execution_count": null,
   "metadata": {},
   "outputs": [],
   "source": [
    "fig, ax = plt.subplots()\n",
    "ax.semilogy(orders, times[:, :-1].T, '.-')\n",
    "labels = ['Filtering with graphs, Nside = {}'.format(nside) for nside in nsides]\n",
    "ax.legend(labels)\n",
    "ax.set_xlabel('Polynomial order')\n",
    "ax.set_xticks(orders)\n",
    "ax.set_ylabel('Processing time [s]');"
   ]
  },
  {
   "cell_type": "code",
   "execution_count": null,
   "metadata": {},
   "outputs": [],
   "source": [
    "fig, ax = plt.subplots()\n",
    "npix = [hp.nside2npix(nside) for nside in nsides]\n",
    "ax.plot(nsides, times, '.-')\n",
    "ax.legend(labels)\n",
    "ax.set_xlabel('Nsides')\n",
    "ax.set_xticks(nsides)\n",
    "ax.set_ylabel('Processing time [s]');"
   ]
  },
  {
   "cell_type": "markdown",
   "metadata": {},
   "source": [
    "## 8 Convergence when number of pixels goes to infinity\n",
    "\n",
    "As a graph representation of the sphere is not dependant on the sampling, we can compute spherical harmonics from random samplings of the sphere. As the sampling increases, the eigenvectors approach the spherical harmonics.\n",
    "\n",
    "Do the eigenvalues converge to the orders $\\ell$, i.e. do the stairs become flatter, when increasing $N_{pix}$? No, they mostly stay the same."
   ]
  },
  {
   "cell_type": "code",
   "execution_count": null,
   "metadata": {},
   "outputs": [],
   "source": [
    "n_points = [100, 500, 1000]\n",
    "#fig, axes = plt.subplots(1, len(n_points))\n",
    "\n",
    "for i, n_points in enumerate(n_points):\n",
    "    graph = pg.graphs.Sphere(nb_pts=n_points)\n",
    "    graph.compute_fourier_basis(n_eigenvectors=n_harmonics)\n",
    "    graph.plot_signal(graph.U[:, 1], edges=False)#, ax=axes[0])\n",
    "    plt.axis('off')"
   ]
  },
  {
   "cell_type": "markdown",
   "metadata": {},
   "source": [
    "## 9 Part of sphere\n",
    "\n",
    "Tweak the part graph such that the eigenvectors computed on parts of the sphere are as if we would have restricted the global eigenvectors to a part of sphere.\n",
    "\n",
    "Todo: Mais tu peux essayer sur une grille normale. Le plus simple pour vérifier si c'est possible, c'est de vérifier s'il est nécessaire d'avoir une matrice circulante pour avoir des exponentielles complexes comme vecteurs propres."
   ]
  }
 ],
 "metadata": {
  "kernelspec": {
   "display_name": "Python 3",
   "language": "python",
   "name": "python3"
  },
  "language_info": {
   "codemirror_mode": {
    "name": "ipython",
    "version": 3
   },
   "file_extension": ".py",
   "mimetype": "text/x-python",
   "name": "python",
   "nbconvert_exporter": "python",
   "pygments_lexer": "ipython3",
   "version": "3.6.4"
  }
 },
 "nbformat": 4,
 "nbformat_minor": 2
}

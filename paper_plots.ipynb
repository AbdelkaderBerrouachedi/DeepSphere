{
 "cells": [
  {
   "cell_type": "markdown",
   "metadata": {},
   "source": [
    "# Plots for the paper\n",
    "\n",
    "[Nathanaël Perraudin](http://perraudin.info), [Michaël Defferrard](http://deff.ch), Tomasz Kacprzak"
   ]
  },
  {
   "cell_type": "code",
   "execution_count": null,
   "metadata": {},
   "outputs": [],
   "source": [
    "# import matplotlib\n",
    "# matplotlib.use('gtkagg')"
   ]
  },
  {
   "cell_type": "code",
   "execution_count": null,
   "metadata": {},
   "outputs": [],
   "source": [
    "%load_ext autoreload\n",
    "%autoreload 2\n",
    "%matplotlib inline"
   ]
  },
  {
   "cell_type": "code",
   "execution_count": null,
   "metadata": {},
   "outputs": [],
   "source": [
    "import numpy as np\n",
    "from scipy.interpolate import interp1d\n",
    "import matplotlib.pyplot as plt\n",
    "from mpl_toolkits.mplot3d import Axes3D\n",
    "import healpy as hp\n",
    "from pygsp import filters\n",
    "import os\n",
    "from scnn import utils\n",
    "import matplotlib\n"
   ]
  },
  {
   "cell_type": "code",
   "execution_count": null,
   "metadata": {},
   "outputs": [],
   "source": [
    "plt.rcParams['figure.figsize'] = (17, 5)  # (9, 4) for matplotlib notebook"
   ]
  },
  {
   "cell_type": "code",
   "execution_count": null,
   "metadata": {},
   "outputs": [],
   "source": [
    "pathfig = './figures/'\n",
    "os.makedirs(pathfig, exist_ok=True)"
   ]
  },
  {
   "cell_type": "markdown",
   "metadata": {},
   "source": [
    "## 1 Graph"
   ]
  },
  {
   "cell_type": "markdown",
   "metadata": {},
   "source": [
    "Let us try to have a nice graph"
   ]
  },
  {
   "cell_type": "markdown",
   "metadata": {},
   "source": [
    "### The full sphere"
   ]
  },
  {
   "cell_type": "code",
   "execution_count": null,
   "metadata": {},
   "outputs": [],
   "source": [
    "fig = plt.figure(figsize=[8,6])\n",
    "\n",
    "ax = fig.add_subplot(111, projection='3d')\n",
    "G = utils.healpix_graph(nside=8, nest=True)\n",
    "G.plotting.update(vertex_size=10)\n",
    "G.plot(ax=ax,edges=False)\n",
    "\n",
    "# Get rid of the ticks\n",
    "ax.set_xticks([])\n",
    "ax.set_yticks([])\n",
    "ax.set_zticks([])\n",
    "# Get rid of the panes\n",
    "ax.w_xaxis.set_pane_color((1.0, 1.0, 1.0, 0.0))\n",
    "ax.w_yaxis.set_pane_color((1.0, 1.0, 1.0, 0.0))\n",
    "ax.w_zaxis.set_pane_color((1.0, 1.0, 1.0, 0.0))\n",
    "\n",
    "# Get rid of the spines\n",
    "ax.w_xaxis.line.set_color((1.0, 1.0, 1.0, 0.0))\n",
    "ax.w_yaxis.line.set_color((1.0, 1.0, 1.0, 0.0))\n",
    "ax.w_zaxis.line.set_color((1.0, 1.0, 1.0, 0.0))\n",
    "\n",
    "ax.set_title('Healpix sampling, Nside=8')\n",
    "plt.gcf().savefig(pathfig+\"healpix_sampling_8.pdf\", bbox_inches='tight')\n",
    "\n",
    "\n",
    "fig = plt.figure(figsize=[8,6])\n",
    "ax = fig.add_subplot(111, projection='3d')\n",
    "G = utils.healpix_graph(nside=4, nest=True)\n",
    "G.plotting.update(vertex_size=20)\n",
    "G.plot(ax=ax)\n",
    "\n",
    "# Get rid of the ticks\n",
    "ax.set_xticks([])\n",
    "ax.set_yticks([])\n",
    "ax.set_zticks([])\n",
    "# Get rid of the panes\n",
    "ax.w_xaxis.set_pane_color((1.0, 1.0, 1.0, 0.0))\n",
    "ax.w_yaxis.set_pane_color((1.0, 1.0, 1.0, 0.0))\n",
    "ax.w_zaxis.set_pane_color((1.0, 1.0, 1.0, 0.0))\n",
    "\n",
    "# Get rid of the spines\n",
    "ax.w_xaxis.line.set_color((1.0, 1.0, 1.0, 0.0))\n",
    "ax.w_yaxis.line.set_color((1.0, 1.0, 1.0, 0.0))\n",
    "ax.w_zaxis.line.set_color((1.0, 1.0, 1.0, 0.0))\n",
    "\n",
    "ax.set_title('Graph, full sphere, Nside=4')\n",
    "plt.gcf().savefig(pathfig+\"healpix_graph_4.pdf\", bbox_inches='tight')\n"
   ]
  },
  {
   "cell_type": "markdown",
   "metadata": {},
   "source": [
    "### Half the sphere"
   ]
  },
  {
   "cell_type": "code",
   "execution_count": null,
   "metadata": {},
   "outputs": [],
   "source": [
    "nside = 4\n",
    "npoints = hp.nside2npix(nside)\n",
    "indexes = hp.reorder(np.array(list(range(npoints))),n2r=True)[:npoints//2]\n",
    "G = utils.healpix_graph(nside=nside, nest=True, indexes=indexes)\n",
    "G.plotting['elevation']=90\n",
    "G.plotting['azimuth']=0\n",
    "G.plotting.update(vertex_size=50)\n",
    "G.plot(ax=ax,edges=False)\n",
    "\n",
    "\n",
    "\n",
    "fig = plt.figure(figsize=[8,8])\n",
    "ax = fig.add_subplot(111, projection='3d')\n",
    "# plt.cm.Blues_r\n",
    "\n",
    "# Highlight the node with a degree of 7 on the full sphere\n",
    "G2 = utils.healpix_graph(nside=nside, nest=True)\n",
    "snode = np.arange(0,G2.N)[G2.d==7]\n",
    "sindex = set(indexes)\n",
    "snode2 = [el for el in snode if el in sindex]\n",
    "hl_index = [np.argmin(np.abs(indexes-el)) for el in snode2]\n",
    "sig = np.zeros([G.N])\n",
    "sig[hl_index]=1\n",
    "\n",
    "G.plot_signal(1-sig, ax=ax,colorbar=False)\n",
    "# G.plot(ax=ax)\n",
    "# Get rid of the ticks\n",
    "ax.set_xticks([])\n",
    "ax.set_yticks([])\n",
    "ax.set_zticks([])\n",
    "# Get rid of the panes\n",
    "ax.w_xaxis.set_pane_color((1.0, 1.0, 1.0, 0.0))\n",
    "ax.w_yaxis.set_pane_color((1.0, 1.0, 1.0, 0.0))\n",
    "ax.w_zaxis.set_pane_color((1.0, 1.0, 1.0, 0.0))\n",
    "\n",
    "# Get rid of the spines\n",
    "ax.w_xaxis.line.set_color((1.0, 1.0, 1.0, 0.0))\n",
    "ax.w_yaxis.line.set_color((1.0, 1.0, 1.0, 0.0))\n",
    "ax.w_zaxis.line.set_color((1.0, 1.0, 1.0, 0.0))\n",
    "\n",
    "# Remove the title\n",
    "# ax.set_title('Graph, half sphere, Nside=4')\n",
    "ax.set_title('')\n",
    "\n",
    "# Zoom in\n",
    "c = 0.6\n",
    "plt.axis([c*min(G.coords[:,0]), c*max(G.coords[:,0]), c*min(G.coords[:,1]), c*max(G.coords[:,1]) ])\n",
    "\n",
    "plt.gcf().savefig(pathfig+\"half_graph_4.pdf\", bbox_inches='tight')"
   ]
  },
  {
   "cell_type": "markdown",
   "metadata": {},
   "source": [
    "# 2 Pooling"
   ]
  },
  {
   "cell_type": "code",
   "execution_count": null,
   "metadata": {},
   "outputs": [],
   "source": [
    "order = 4\n",
    "\n",
    "index = np.arange(hp.nside2npix(order)) + 1\n",
    "mask = np.zeros_like(index, dtype=np.bool)\n",
    "mask[:order**2] = 1\n",
    "index *= mask\n",
    "index = index.astype(np.float)\n",
    "index[index==0] = hp.UNSEEN\n",
    "hp.mollview(index, title='', nest=True, cbar=False,cmap=None, xsize=1600)\n",
    "plt.gcf().savefig(pathfig+\"pooling-order4.pdf\", bbox_inches='tight')\n",
    "\n",
    "order = 2\n",
    "index = np.arange(hp.nside2npix(order)) + 1\n",
    "mask = np.zeros_like(index, dtype=np.bool)\n",
    "mask[:order**2] = 1\n",
    "index *= mask\n",
    "index = index.astype(np.float)\n",
    "index[index==0] = hp.UNSEEN\n",
    "hp.mollview(index, title='', nest=True, cbar=False,cmap=None, xsize=1600)\n",
    "plt.gcf().savefig(pathfig+\"pooling-order2.pdf\", bbox_inches='tight')\n",
    "\n",
    "\n",
    "order = 1\n",
    "index = np.arange(hp.nside2npix(order)) + 1\n",
    "mask = np.zeros_like(index, dtype=np.bool)\n",
    "mask[:order**2] = 1\n",
    "index *= mask\n",
    "index = index.astype(np.float)\n",
    "index[index==0] = hp.UNSEEN\n",
    "hp.mollview(index, title='', nest=True, cbar=False,cmap=None, xsize=1600)\n",
    "plt.gcf().savefig(pathfig+\"pooling-order1.pdf\", bbox_inches='tight')\n",
    "\n",
    "\n",
    "index = np.array(list(range(12)))\n",
    "hp.mollview(index, title='', nest=True, cbar=False,cmap=None, xsize=1600)\n",
    "plt.gcf().savefig(pathfig+\"12parts.pdf\", bbox_inches='tight')\n"
   ]
  },
  {
   "cell_type": "markdown",
   "metadata": {},
   "source": [
    "# 3 Fourier basis\n",
    "\n"
   ]
  },
  {
   "cell_type": "code",
   "execution_count": null,
   "metadata": {},
   "outputs": [],
   "source": [
    "G = utils.healpix_graph(nside=16, lap_type='normalized', nest=True, dtype=np.float64)"
   ]
  },
  {
   "cell_type": "code",
   "execution_count": null,
   "metadata": {},
   "outputs": [],
   "source": [
    "# Compute all eigenvectors.\n",
    "G.compute_fourier_basis()\n"
   ]
  },
  {
   "cell_type": "markdown",
   "metadata": {},
   "source": [
    "Let us display a few Fourier modes on the healpix map."
   ]
  },
  {
   "cell_type": "code",
   "execution_count": null,
   "metadata": {},
   "outputs": [],
   "source": [
    "matplotlib.rcParams.update({'font.size': 22})\n",
    "fig = plt.figure(figsize=(17, 10))\n",
    "ne = 16\n",
    "for ind in range(ne):\n",
    "    hp.mollview(G.U[:, ind], \n",
    "                title='Eigenvector {}'.format(ind), \n",
    "                nest=True, \n",
    "                sub=(np.sqrt(ne), np.sqrt(ne), ind+1),\n",
    "                max=np.max(np.abs(G.U[:, :ne])),\n",
    "                min=-np.max(np.abs(G.U[:, :ne])),\n",
    "                cbar=False)\n",
    "plt.gcf().savefig(pathfig+\"eigenvectors.pdf\", bbox_inches='tight')\n"
   ]
  },
  {
   "cell_type": "markdown",
   "metadata": {},
   "source": [
    "# 4 Convolution on graphs"
   ]
  },
  {
   "cell_type": "code",
   "execution_count": null,
   "metadata": {},
   "outputs": [],
   "source": [
    "\n",
    "taus = [5, 10, 20, 50]\n",
    "matplotlib.rcParams.update({'font.size': 14})\n",
    "fig, ax = plt.subplots(1,len(taus), figsize=(17, 4))\n",
    "for i,tau in enumerate(taus):\n",
    "    hf = filters.Heat(G, tau=tau)\n",
    "    hf.plot(eigenvalues=False, sum=False, ax=ax[i])\n",
    "    ax[i].set_xlabel('Graph eigenvalues', fontsize=18)\n",
    "    if i is not 0:\n",
    "        ax[i].set_ylabel('')\n",
    "    else:\n",
    "        ax[i].set_ylabel('Spectral response', fontsize=18)\n",
    "    ax[i].set_title('$t={}$'.format(tau), fontsize=22)\n",
    "fig.tight_layout(rect=[0, 0.05, 1, 0.92])\n",
    "\n",
    "plt.suptitle('Filter response in the graph spectral domain', fontsize=27)\n",
    "plt.gcf().savefig(pathfig+\"gaussian_filters_spectral.pdf\", bbox_inches='tight')\n"
   ]
  },
  {
   "cell_type": "code",
   "execution_count": null,
   "metadata": {},
   "outputs": [],
   "source": [
    "hf = filters.Heat(G,tau=taus)\n",
    "\n",
    "def arcmin2rad(x):\n",
    "    return x / 60 / 360 * 2 * np.pi\n",
    "\n",
    "def gaussian_smoothing(sig, sigma, nest=True):\n",
    "    if nest:\n",
    "        sig = hp.reorder(sig, n2r=True)\n",
    "    smooth = hp.sphtfunc.smoothing(sig, sigma=arcmin2rad(sigma))\n",
    "    if nest:\n",
    "        smooth = hp.reorder(smooth, r2n=True)\n",
    "    return smooth\n",
    "_, center = utils.get_index_equator(hp.npix2nside(G.N), radius=20)\n",
    "ind0 = center\n",
    "sig = np.zeros(G.N)\n",
    "sig[ind0] = 1\n",
    "conv = hf.analyze(sig)\n",
    "\n",
    "fig = plt.figure()\n",
    "rel_diff = []\n",
    "matplotlib.rcParams.update({'font.size': 22})\n",
    "for i, (tau, sigma) in enumerate(zip(taus, [315, 465, 670, 1080])):\n",
    "    smooth = gaussian_smoothing(sig, sigma, nest=True)\n",
    "    m = max(smooth)\n",
    "    hp.mollview(conv[:, i], \n",
    "                title='$t={}$'.format(tau), \n",
    "                nest=True, \n",
    "                min=0, max=m,\n",
    "                cbar=False,\n",
    "                rot=(180,0,180),\n",
    "                sub=(2, len(taus), i+1))\n",
    "    hp.mollview(smooth, \n",
    "                title='$\\sigma={}$'.format(sigma), \n",
    "                nest=True, \n",
    "                min=0, max=m,\n",
    "                cbar=False,\n",
    "                rot=(180,0,180),\n",
    "                sub=(2,len(taus),i+len(taus)+1))\n",
    "    diff = (conv[:, i]-smooth)\n",
    "    rel_diff.append(np.linalg.norm(diff)/np.linalg.norm(smooth))\n",
    "#     hp.mollview(diff, \n",
    "#                 title='', \n",
    "#                 nest=True,\n",
    "#                 cbar=False,\n",
    "#                 sub=(3, len(taus), i+2*len(taus)+1))\n",
    "print(rel_diff)\n",
    "\n",
    "plt.gcf().savefig(pathfig+\"gaussian_filters_sphere.pdf\", bbox_inches='tight')"
   ]
  },
  {
   "cell_type": "code",
   "execution_count": null,
   "metadata": {},
   "outputs": [],
   "source": [
    "hf = filters.Heat(G,tau=taus)\n",
    "order = 20\n",
    "matplotlib.rcParams.update({'font.size': 20})\n",
    "fig = plt.figure( figsize=(17, 5.5))\n",
    "utils.plot_filters_gnomonic(filters=hf,order=order, title='')\n",
    "plt.suptitle('Gnomonic projection of a convoluted delta', fontsize=27)\n",
    "\n",
    "plt.gcf().savefig(pathfig+\"gaussian_filters_gnomonic.pdf\", bbox_inches='tight')"
   ]
  },
  {
   "cell_type": "code",
   "execution_count": null,
   "metadata": {},
   "outputs": [],
   "source": [
    "matplotlib.rcParams.update({'font.size': 14})\n",
    "utils.plot_filters_section(hf, order=order, xlabel='', ylabel='', title='')\n",
    "plt.suptitle('Section of a convoluted delta', fontsize=22)\n",
    "plt.gcf().savefig(pathfig+\"gaussian_filters_section.pdf\", bbox_inches='tight')"
   ]
  },
  {
   "cell_type": "code",
   "execution_count": null,
   "metadata": {},
   "outputs": [],
   "source": [
    "utils.plot_index_filters_section(hf,order=order)\n",
    "plt.gcf().savefig(pathfig+\"index_plotting_order{}_nside16.pdf\".format(order), bbox_inches='tight')"
   ]
  },
  {
   "cell_type": "markdown",
   "metadata": {},
   "source": [
    "# 5 Experiment results"
   ]
  },
  {
   "cell_type": "code",
   "execution_count": null,
   "metadata": {},
   "outputs": [],
   "source": [
    "sigma = 3\n",
    "\n",
    "\n",
    "scnn_result = np.zeros(shape=(3,5))\n",
    "scnn_result[:] = np.nan\n",
    "if sigma==3:\n",
    "    sigma_noises = [0, 0.5, 1, 1.5, 2]\n",
    "else:\n",
    "    sigma_noises = [1, 2, 3, 4, 5]\n",
    "orders = [1,2,4]\n",
    "tmp = np.load('results/scnn/scnn_results_list_sigma{}.npz'.format(sigma))['data']\n",
    "for el in tmp:\n",
    "    pos1 = orders.index(int(el[0]))\n",
    "    pos2 = sigma_noises.index(el[1])\n",
    "    scnn_result[pos1,pos2] = el[2]\n",
    "\n",
    "# psd_result = np.squeeze(np.load('results/psd/psd_results_sigma{}.npz'.format(sigma))['arr_0'])\n",
    "tmp = np.load('results/psd/psd_results_list_sigma{}.npz'.format(sigma))['data']\n",
    "psd_result = np.zeros(shape=(3,5))\n",
    "psd_result[:] = np.nan\n",
    "for el in tmp:\n",
    "    pos1 = orders.index(int(el[0]))\n",
    "    pos2 = sigma_noises.index(el[1])\n",
    "    psd_result[pos1,pos2] = el[2]\n",
    "    \n",
    "hist_result = np.squeeze(np.load('results/histogram/histogram_results_sigma{}.npz'.format(sigma))['arr_0'])\n"
   ]
  },
  {
   "cell_type": "code",
   "execution_count": null,
   "metadata": {},
   "outputs": [],
   "source": [
    "# To be updated\n",
    "if sigma==3:\n",
    "    sigma_noises = [0, 0.5, 1, 1.5, 2]\n",
    "else:\n",
    "    sigma_noises = [1, 2, 3, 4, 5]\n",
    "for i, order in enumerate([1, 2, 4]):\n",
    "    err_hist = hist_result[i]*100\n",
    "    err_scnn = scnn_result[i]*100\n",
    "    err_psd = psd_result[i]*100\n",
    "\n",
    "    plt.figure(figsize=[4,3])\n",
    "    plt.plot(sigma_noises, err_hist,'.-')\n",
    "    plt.plot(sigma_noises, err_scnn,'.-')\n",
    "    plt.plot(sigma_noises, err_psd,'.-')\n",
    "    plt.legend(['Histogram + linear SVM', 'SCNN', 'PSD + linear SVM'])\n",
    "    plt.xlabel('Relative noise level')\n",
    "    plt.ylabel('Error in %')\n",
    "    plt.title('Order {}'.format(order))\n",
    "    plt.gcf().savefig(pathfig+\"result_order{}.pdf\".format(order), bbox_inches='tight')"
   ]
  },
  {
   "cell_type": "code",
   "execution_count": null,
   "metadata": {},
   "outputs": [],
   "source": [
    "# To be updated\n",
    "sigma_noise = [1, 2, 3, 4, 5]\n",
    "for i, order in enumerate([1, 2, 4]):\n",
    "    plt.figure(figsize=[4,3])\n",
    "    improvement = (hist_result[i] - scnn_result[i])/scnn_result[i]\n",
    "    improvement = (hist_result[i] - scnn_result[i])*100\n",
    "    plt.plot(sigma_noise, improvement,'.-')\n",
    "    plt.xlabel('Relative noise level')\n",
    "#     plt.ylabel('Relative improvement')\n",
    "    plt.ylabel('% accuracy improvement')\n",
    "    plt.title('Order {}'.format(order))\n",
    "#     plt.gcf().savefig(pathfig+\"relative_result_order{}.pdf\".format(order), bbox_inches='tight')"
   ]
  },
  {
   "cell_type": "code",
   "execution_count": null,
   "metadata": {},
   "outputs": [],
   "source": [
    "scnn_result*100"
   ]
  },
  {
   "cell_type": "code",
   "execution_count": null,
   "metadata": {},
   "outputs": [],
   "source": [
    "hist_result*100"
   ]
  },
  {
   "cell_type": "markdown",
   "metadata": {},
   "source": [
    "# 6 Experiment data"
   ]
  },
  {
   "cell_type": "code",
   "execution_count": null,
   "metadata": {},
   "outputs": [],
   "source": [
    "orders = [1,2,4]\n",
    "order_max = max(orders)\n",
    "npix = hp.nside2npix(order_max)\n",
    "index = np.zeros([npix])\n",
    "for order in orders:\n",
    "    index[:order**2] = index[:order**2]+1\n",
    "index.astype(np.float)\n",
    "index[index==0] = hp.UNSEEN\n",
    "hp.mollview(index, title='Restriction to a part of the sphere', nest=True, cbar=False,cmap=None, xsize=1600)\n",
    "plt.gcf().savefig(pathfig+\"part_sphere.pdf\", bbox_inches='tight')"
   ]
  },
  {
   "cell_type": "markdown",
   "metadata": {},
   "source": [
    "### Plotting some data"
   ]
  },
  {
   "cell_type": "code",
   "execution_count": null,
   "metadata": {},
   "outputs": [],
   "source": [
    "img1 = hp.read_map('data/same_psd/kappa_omega_m_0p31_s_2.fits')\n",
    "img2 = hp.read_map('data/same_psd/kappa_omega_m_0p26_s_2.fits')\n",
    "img1 = hp.reorder(img1, r2n=True)\n",
    "img2 = hp.reorder(img2, r2n=True)\n",
    "Nside = 1024\n",
    "img1 = hp.ud_grade(img1, nside_out=Nside, order_in='NESTED')\n",
    "img2 = hp.ud_grade(img2, nside_out=Nside, order_in='NESTED')\n",
    "cmin = min(np.min(img1), np.min(img2))\n",
    "cmax = max(np.max(img1), np.max(img2))\n",
    "cmax = -2*cmin"
   ]
  },
  {
   "cell_type": "code",
   "execution_count": null,
   "metadata": {},
   "outputs": [],
   "source": [
    "# _ = plt.hist(img1,bins=100)"
   ]
  },
  {
   "cell_type": "code",
   "execution_count": null,
   "metadata": {},
   "outputs": [],
   "source": [
    "# hp.mollview(img1, title='Map 1, omega_m=0.31, pk_norm=0.82, h=0.7', nest=True, min=cmin, max=cmax)\n",
    "# hp.mollview(img2, title='Map 2, omega_m=0.26, sigma_8=0.91, h=0.7', nest=True, min=cmin, max=cmax)"
   ]
  },
  {
   "cell_type": "code",
   "execution_count": null,
   "metadata": {},
   "outputs": [],
   "source": [
    "def zoom_mollview(sig, cmin=None, cmax=None, nest=True):\n",
    "    from numpy.ma import masked_array\n",
    "    from matplotlib.patches import Rectangle\n",
    "\n",
    "    \n",
    "    if cmin is None:\n",
    "        cmin = np.min(sig)\n",
    "    if cmax is None:\n",
    "        cmax = np.max(sig)\n",
    "    \n",
    "    projected = hp.mollview(sig, return_projected_map=True, nest=nest)\n",
    "    plt.clf()\n",
    "    nmesh = 400\n",
    "    loleft = -35\n",
    "    loright = -30\n",
    "\n",
    "    grid = hp.cartview(sig, latra=[-2.5,2.5], lonra=[loleft,loright], fig=1, xsize=nmesh, return_projected_map=True, nest=nest)\n",
    "    plt.clf()\n",
    "\n",
    "    nside = hp.npix2nside(len(sig))\n",
    "    \n",
    "    theta, phi = hp.pix2ang(nside, np.arange(hp.nside2npix(nside)))\n",
    "    \n",
    "    \n",
    "    # Get position for the zoom window\n",
    "    theta_min = 87.5/180*np.pi\n",
    "    theta_max = 92.5/180*np.pi\n",
    "    delta_theta = 0.55/180*np.pi\n",
    "    phi_min = (180 - loleft)/180.0*np.pi\n",
    "    phi_max = (180 - loright)/180.0*np.pi\n",
    "    delta_phi = 0.55/180*np.pi\n",
    "\n",
    "    angles = np.array([theta, phi]).T\n",
    "\n",
    "    m0 = np.argmin(np.sum((angles - np.array([theta_max, phi_max]))**2, axis=1))\n",
    "    m1 = np.argmin(np.sum((angles - np.array([theta_max, phi_min]))**2, axis=1))\n",
    "    m2 = np.argmin(np.sum((angles - np.array([theta_min, phi_max]))**2, axis=1))\n",
    "    m3 = np.argmin(np.sum((angles - np.array([theta_min, phi_min]))**2, axis=1))\n",
    "\n",
    "    proj = hp.projector.MollweideProj(xsize=800)\n",
    "\n",
    "    m0 = proj.xy2ij(proj.vec2xy(hp.pix2vec(ipix=m0, nside=nside)))\n",
    "    m1 = proj.xy2ij(proj.vec2xy(hp.pix2vec(ipix=m1, nside=nside)))\n",
    "    m2 = proj.xy2ij(proj.vec2xy(hp.pix2vec(ipix=m2, nside=nside)))\n",
    "    m3 = proj.xy2ij(proj.vec2xy(hp.pix2vec(ipix=m3, nside=nside)))\n",
    "\n",
    "    width = m0[1] - m1[1]\n",
    "    height = m2[0] - m1[0]\n",
    "    \n",
    "    test_pro = np.full(shape=(400, 1400), fill_value=-np.inf)\n",
    "    test_pro_1 = np.full(shape=(400, 1400), fill_value=-np.inf)\n",
    "    test_pro[:,:800] = projected\n",
    "    test_pro_1[:,1000:1400] = grid.data\n",
    "    tt_0 = masked_array(test_pro, test_pro<-1000)\n",
    "    tt_1 = masked_array(test_pro_1, test_pro_1<-1000)    \n",
    "    \n",
    "    fig = plt.figure(frameon=False, figsize=(12,8))\n",
    "    ax = fig.add_axes([0, 0, 1, 1])\n",
    "    ax.axis('off')\n",
    "    ax = fig.gca()\n",
    "    plt.plot(np.linspace(m1[1]+width, 1000), np.linspace(m1[0], 0), 'k-')\n",
    "    plt.plot(np.linspace(m1[1]+width, 1000), np.linspace(m2[0], 400), 'k-')\n",
    "    plt.vlines(x=[1000, 1399], ymin=0, ymax=400)\n",
    "    plt.hlines(y=[0,399], xmin=1000, xmax=1400)\n",
    "\n",
    "    c = Rectangle((m1[1], m1[0]), width, height, color='k', fill=False, linewidth=3, zorder=100)\n",
    "    ax.add_artist(c)\n",
    "    cm = plt.cm.Blues\n",
    "    cm = plt.cm.RdBu_r\n",
    "#     cm = plt.cm.coolwarm # Not working, I do not know why it is not working\n",
    "#     cm.set_bad(\"white\")\n",
    "    im1 = ax.imshow(tt_0, cmap=cm, vmin=cmin, vmax=cmax)\n",
    "    cbaxes1 = fig.add_axes([0.08,0.2,0.4,0.04])\n",
    "    cbar1 = plt.colorbar(im1, orientation=\"horizontal\", cax=cbaxes1)\n",
    "    im2 = ax.imshow(tt_1, cmap=cm, vmin=cmin, vmax=cmax)\n",
    "    cbaxes2 = fig.add_axes([1.02,0.285,0.025,0.43])\n",
    "    cbar2 = plt.colorbar(im2, orientation=\"vertical\", cax=cbaxes2)\n",
    "    plt.xticks([])\n",
    "    plt.yticks([])\n",
    "    return fig\n"
   ]
  },
  {
   "cell_type": "code",
   "execution_count": null,
   "metadata": {},
   "outputs": [],
   "source": [
    "def arcmin2rad(x):\n",
    "    return x / 60 / 360 * 2 * np.pi\n",
    "\n",
    "def gaussian_smoothing(sig, sigma, nest=True):\n",
    "    if nest:\n",
    "        sig = hp.reorder(sig, n2r=True)\n",
    "    smooth = hp.sphtfunc.smoothing(sig, sigma=arcmin2rad(sigma))\n",
    "    if nest:\n",
    "        smooth = hp.reorder(smooth, r2n=True)\n",
    "    return smooth\n",
    "sigma=3"
   ]
  },
  {
   "cell_type": "code",
   "execution_count": null,
   "metadata": {},
   "outputs": [],
   "source": [
    "fig = zoom_mollview(img1, cmin=cmin, cmax=cmax)\n",
    "plt.suptitle('Sample from class 1, $\\Omega_m=0.31$, , $\\sigma_8=0.82$',y=0.78, fontsize=18);\n",
    "# omega_m=0.31, pk_norm=0.82, h=0.7"
   ]
  },
  {
   "cell_type": "code",
   "execution_count": null,
   "metadata": {},
   "outputs": [],
   "source": [
    "fig = zoom_mollview(gaussian_smoothing(img1,sigma), cmin=cmin, cmax=cmax)\n",
    "plt.suptitle('Smoothed map from class 1, $\\Omega_m=0.31$, $\\sigma_8=0.82$',y=0.78, fontsize=18)\n",
    "plt.gcf().savefig(pathfig+\"smooth_map_class_1.pdf\", bbox_inches='tight')\n",
    "# omega_m=0.31, pk_norm=0.82, h=0.7"
   ]
  },
  {
   "cell_type": "code",
   "execution_count": null,
   "metadata": {},
   "outputs": [],
   "source": [
    "fig = zoom_mollview(img2, cmin=cmin, cmax=cmax)\n",
    "_ = plt.suptitle('Sample from class 2, $\\Omega_m=0.26$, $\\sigma_8=0.91$',y=0.78, fontsize=18)\n",
    "# omega_m=0.26, sigma_8=0.91, h=0.7\n"
   ]
  },
  {
   "cell_type": "code",
   "execution_count": null,
   "metadata": {},
   "outputs": [],
   "source": [
    "fig = zoom_mollview(gaussian_smoothing(img2, sigma), cmin=cmin, cmax=cmax)\n",
    "_ = plt.suptitle('Smoothed map from class 2, $\\Omega_m=0.26$, $\\sigma_8=0.91$',y=0.78, fontsize=18)\n",
    "plt.gcf().savefig(pathfig+\"smooth_map_class_2.pdf\", bbox_inches='tight')\n",
    "# omega_m=0.26, sigma_8=0.91, h=0.7\n"
   ]
  },
  {
   "cell_type": "markdown",
   "metadata": {},
   "source": [
    "# 7 PSD plots"
   ]
  },
  {
   "cell_type": "code",
   "execution_count": null,
   "metadata": {},
   "outputs": [],
   "source": []
  },
  {
   "cell_type": "code",
   "execution_count": null,
   "metadata": {},
   "outputs": [],
   "source": [
    "sigma = 3"
   ]
  },
  {
   "cell_type": "code",
   "execution_count": null,
   "metadata": {},
   "outputs": [],
   "source": [
    "compute = False\n",
    "if compute:\n",
    "    def psd(x):\n",
    "        '''Spherical Power Spectral Densities'''\n",
    "        hatx = hp.map2alm(hp.reorder(x, n2r=True))\n",
    "        return hp.alm2cl(hatx)\n",
    "    data_path = 'data/same_psd/'\n",
    "    ds1 = np.load(data_path+'smoothed_class1_sigma{}.npz'.format(sigma))['arr_0']\n",
    "    ds2 = np.load(data_path+'smoothed_class2_sigma{}.npz'.format(sigma))['arr_0']\n",
    "    psds_img1 = [psd(img) for img in ds1]\n",
    "    psds_img2 = [psd(img) for img in ds2]\n",
    "    np.savez('results/psd_data_sigma{}'.format(sigma), psd_class1=psds_img1, psd_class2=psds_img2)"
   ]
  },
  {
   "cell_type": "code",
   "execution_count": null,
   "metadata": {},
   "outputs": [],
   "source": [
    "np.savez('results/psd_data_sigma{}'.format(sigma), psd_class1=psds_img1, psd_class2=psds_img2)"
   ]
  },
  {
   "cell_type": "code",
   "execution_count": null,
   "metadata": {},
   "outputs": [],
   "source": [
    "psds_img1 = np.load('results/psd_data_sigma{}.npz'.format(sigma))['psd_class1']\n",
    "psds_img2 = np.load('results/psd_data_sigma{}.npz'.format(sigma))['psd_class2']"
   ]
  },
  {
   "cell_type": "code",
   "execution_count": null,
   "metadata": {},
   "outputs": [],
   "source": [
    "mean_psds1 = np.mean(np.stack(psds_img1),axis=0)\n",
    "mean_psds2 = np.mean(np.stack(psds_img2),axis=0)\n",
    "std_psds1 = np.std(np.stack(psds_img1),axis=0)\n",
    "std_psds2 = np.std(np.stack(psds_img2),axis=0)"
   ]
  },
  {
   "cell_type": "code",
   "execution_count": null,
   "metadata": {},
   "outputs": [],
   "source": [
    "def plot_with_std(x, y, ystd, label, color, ax=None, **kwargs):\n",
    "    transparency = 0.2\n",
    "    if ax is None:\n",
    "        ax = plt.gca()\n",
    "    ax.plot(x, y, label=label, color=color, **kwargs)\n",
    "    ax.fill_between(x, y - ystd, y + ystd, alpha=transparency, color=color)"
   ]
  },
  {
   "cell_type": "code",
   "execution_count": null,
   "metadata": {},
   "outputs": [],
   "source": [
    "matplotlib.rcParams.update({'font.size': 14})\n",
    "\n",
    "l = np.array(range(len(psds_img1[0])))\n",
    "\n",
    "# plt.errorbar(l,mean_psds1*l*(l+1),yerr=var_psds1*l*(l+1), label='class 1, $\\Omega_m=0.31$, $\\sigma_8=0.82$, $h=0.7$')\n",
    "# plt.errorbar(l,mean_psds2*l*(l+1),yerr=var_psds2*l*(l+1), label='class 2, $\\Omega_m=0.26$, $\\sigma_8=0.91$, $h=0.7$')\n",
    "\n",
    "plot_with_std(l,mean_psds1*l*(l+1),std_psds1*l*(l+1), label='class 1, $\\Omega_m=0.31$, $\\sigma_8=0.82$, $h=0.7$', color='r')\n",
    "plot_with_std(l,mean_psds2*l*(l+1),std_psds2*l*(l+1), label='class 2, $\\Omega_m=0.26$, $\\sigma_8=0.91$, $h=0.7$', color='b')\n",
    "\n",
    "plt.legend(fontsize=16);\n",
    "plt.xlim([11, np.max(l)])\n",
    "plt.ylim([1e-6, 5e-4])\n",
    "plt.yscale('log')\n",
    "plt.xscale('log')\n",
    "plt.xlabel('$\\ell$: spherical harmonic index', fontsize=18)\n",
    "plt.ylabel('$C_\\ell \\cdot \\ell \\cdot (\\ell+1)$', fontsize=18)\n",
    "plt.title('Power Spectrum Density, 3-arcmin smoothing, noiseless, Nside=1024', fontsize=18);\n",
    "plt.gcf().savefig(pathfig+\"psd_sigma{}.pdf\".format(sigma), bbox_inches='tight')"
   ]
  },
  {
   "cell_type": "markdown",
   "metadata": {},
   "source": [
    "# Checking SVM sims"
   ]
  },
  {
   "cell_type": "code",
   "execution_count": null,
   "metadata": {},
   "outputs": [],
   "source": [
    "sigma = 3\n",
    "order = 4\n",
    "sigma_noise = 1.5\n",
    "\n",
    "# path = 'results/psd/'\n",
    "# name = '40sim_1024sides_{0}arcmin_{2:.1f}noise_{1}order.npz'.format(sigma, order, sigma_noise)\n",
    "\n",
    "path = 'results/histogram/'\n",
    "# name = '40sim_1024sides_{2}noise_{1}order_{0}sigma.npz'.format(sigma, order, sigma_noise)\n",
    "name = '40sim_1024sides_{2}noise_{1}order_{0}sigma_long.npz'.format(sigma, order, sigma_noise)\n",
    "\n",
    "filepath = os.path.join(path,name)\n",
    "data = np.load(filepath)['arr_0']\n"
   ]
  },
  {
   "cell_type": "code",
   "execution_count": null,
   "metadata": {},
   "outputs": [],
   "source": [
    "matplotlib.rcParams.update({'font.size': 18})\n",
    "\n",
    "plt.plot(data[0], data[1])\n",
    "plt.plot(data[0], data[2])\n",
    "plt.plot(data[0][-1], data[3],'x')\n",
    "plt.legend(['Training','Validation', 'Testing'])\n",
    "plt.xlabel('Number of training samples')\n",
    "plt.ylabel('Error rate in %')\n",
    "plt.title('Error for the histogram + SVM, order: {}, noise level: {}'.format(order, sigma_noise))\n",
    "plt.gcf().savefig(pathfig+\"hist_error_order{}_noise{}.pdf\".format(order,sigma_noise), bbox_inches='tight')"
   ]
  },
  {
   "cell_type": "code",
   "execution_count": null,
   "metadata": {},
   "outputs": [],
   "source": []
  }
 ],
 "metadata": {
  "anaconda-cloud": {},
  "kernelspec": {
   "display_name": "Python 3",
   "language": "python",
   "name": "python3"
  },
  "language_info": {
   "codemirror_mode": {
    "name": "ipython",
    "version": 3
   },
   "file_extension": ".py",
   "mimetype": "text/x-python",
   "name": "python",
   "nbconvert_exporter": "python",
   "pygments_lexer": "ipython3",
   "version": "3.5.2"
  }
 },
 "nbformat": 4,
 "nbformat_minor": 1
}

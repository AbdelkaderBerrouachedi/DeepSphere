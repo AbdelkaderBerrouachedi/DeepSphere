{
 "cells": [
  {
   "cell_type": "code",
   "execution_count": null,
   "metadata": {},
   "outputs": [],
   "source": [
    "import os; \n",
    "import healpy as hp; import numpy as np; \n",
    "from IPython.core.display import display, HTML; display(HTML(\"<style>.container { width:100% !important; }</style>\"))\n",
    "%pylab inline\n",
    "%load_ext autoreload\n",
    "%autoreload 2"
   ]
  },
  {
   "cell_type": "code",
   "execution_count": null,
   "metadata": {},
   "outputs": [],
   "source": [
    "def make_ball(map_test1, cmap=cm.gray_r, clim=None, title='', rot = (0,-45,-20)):\n",
    "    cmap.set_over('w')\n",
    "    cmap.set_under('w')\n",
    "    cmap.set_bad('lightgrey')\n",
    "    dot_size=10\n",
    "    if clim==None:\n",
    "        hp.visufunc.orthview(map=map_test1, half_sky=True, title=title, rot=rot, cmap=cmap, cbar=True, hold=True, nest=False, notext=True);\n",
    "    else:\n",
    "        hp.visufunc.orthview(map=map_test1, half_sky=True, title=title, rot=rot, cmap=cmap, cbar=True, hold=True, nest=False, notext=True, min=clim[0], max=clim[1]);\n",
    "    theta, phi = hp.pix2ang(hp.npix2nside(len(map_test1)), range(len(map_test1)), nest=True);\n",
    "#     hp.projscatter(theta, phi, c='k', s=dot_size);\n",
    "    hp.graticule();\n",
    "#     hp.graticule(dmer=360,dpar=360,alpha=1, rot=(0,0,20), local=True);\n",
    "    hp.graticule(dmer=360,dpar=360,alpha=1, rot=(0,0,-1*rot[2]), local=True);\n",
    "#     pl.Circle((19, 12), 40, color='r')\n",
    "#     hp.graticule(dmer=360,dpar=360,alpha=1, rot=(0,0,0), local=True);       \n",
    "#     pl.savefig('test_fig1.pdf', bbox_inches='tight', transparent=True);"
   ]
  },
  {
   "cell_type": "markdown",
   "metadata": {},
   "source": [
    "# DR1 mass map"
   ]
  },
  {
   "cell_type": "code",
   "execution_count": null,
   "metadata": {},
   "outputs": [],
   "source": [
    "from astropy.io import fits\n",
    "map_des_dr1 = hp.read_map('./example_maps_data/map___EG=counts.fits')"
   ]
  },
  {
   "cell_type": "code",
   "execution_count": null,
   "metadata": {},
   "outputs": [],
   "source": [
    "hp.mollview(map_des_dr1)"
   ]
  },
  {
   "cell_type": "code",
   "execution_count": null,
   "metadata": {},
   "outputs": [],
   "source": [
    "map_kappa = np.load('./data_v6/kappa_omega_m_0p31_s_1.npy')"
   ]
  },
  {
   "cell_type": "code",
   "execution_count": null,
   "metadata": {},
   "outputs": [],
   "source": [
    "map_kappa = hp.ud_grade(map_kappa, nside_out=512)\n",
    "sigma_arcmin = 60\n",
    "sigma_rad = sigma_arcmin / 60. * np.pi / 180.\n",
    "map_kappa = hp.smoothing(map_kappa, fwhm=sigma_rad)"
   ]
  },
  {
   "cell_type": "code",
   "execution_count": null,
   "metadata": {},
   "outputs": [],
   "source": [
    "map_des_dr1 = hp.ud_grade(map_des_dr1, nside_out=512)\n",
    "map_kappa_des = map_kappa.copy()\n",
    "map_kappa_des -= np.mean(map_kappa)\n",
    "map_kappa_des[map_des_dr1==hp.UNSEEN]=hp.UNSEEN\n"
   ]
  },
  {
   "cell_type": "code",
   "execution_count": null,
   "metadata": {},
   "outputs": [],
   "source": [
    "make_ball(map_kappa_des, cmap=pl.cm.plasma)"
   ]
  },
  {
   "cell_type": "markdown",
   "metadata": {},
   "source": [
    "# CMB map"
   ]
  },
  {
   "cell_type": "code",
   "execution_count": null,
   "metadata": {},
   "outputs": [],
   "source": [
    "map_cmb = hp.read_map('example_maps_data/COM_CMB_IQU-commander_2048_R3.00_full.fits')\n",
    "mask_cmb = hp.read_map('example_maps_data/COM_Mask_CMB-common-Mask-Pol_2048_R3.00.fits')\n",
    "map_cmb[mask_cmb==0] = hp.UNSEEN"
   ]
  },
  {
   "cell_type": "code",
   "execution_count": null,
   "metadata": {},
   "outputs": [],
   "source": [
    "map_cmb = hp.ud_grade(map_cmb, nside_out=512)\n",
    "sigma_arcmin = 60\n",
    "sigma_rad = sigma_arcmin / 60. * np.pi / 180.\n",
    "map_cmb = hp.smoothing(map_cmb, fwhm=sigma_rad)"
   ]
  },
  {
   "cell_type": "markdown",
   "metadata": {},
   "source": [
    "# SDSS galaxies map"
   ]
  },
  {
   "cell_type": "code",
   "execution_count": null,
   "metadata": {},
   "outputs": [],
   "source": [
    "map_sdss = hp.read_map('example_maps_data/sdss_galaxy_count.fits')\n",
    "pixarea = hp.nside2pixarea(512, degrees=True)*(60**2)\n",
    "map_sdss = map_sdss/pixarea\n",
    "map_sdss[map_sdss==0]=hp.UNSEEN\n",
    "print(map_sdss.max())\n",
    "sigma_arcmin = 30\n",
    "sigma_rad = sigma_arcmin / 60. * np.pi / 180.\n",
    "map_sdss = hp.smoothing(map_sdss, fwhm=sigma_rad)"
   ]
  },
  {
   "cell_type": "markdown",
   "metadata": {},
   "source": [
    "# make figure"
   ]
  },
  {
   "cell_type": "code",
   "execution_count": null,
   "metadata": {},
   "outputs": [],
   "source": [
    "print(map_sdss.max(), map_sdss.min())\n",
    "print(map_kappa_des.max(), map_kappa_des.min())"
   ]
  },
  {
   "cell_type": "code",
   "execution_count": null,
   "metadata": {},
   "outputs": [],
   "source": [
    "nx, ny = 3,1\n",
    "pl.figure(figsize=(nx*5, ny*7))\n",
    "pl.subplot(ny,nx,1)\n",
    "make_ball(map_cmb, cmap=pl.cm.RdBu, clim=[-0.00025, 0.00025], title='CMB temperature map\\n(Planck 2015)', rot=(0, 30, -20))\n",
    "pl.subplot(ny,nx,2)\n",
    "make_ball(map_sdss, cmap=pl.cm.viridis, title='galaxy count\\n(SDSS DR14)', clim=[0, 6], rot=(0,20, -20))\n",
    "pl.subplot(ny,nx,3)\n",
    "make_ball(map_kappa_des, cmap=pl.cm.plasma, title='simulated weak lensing mass map\\n(DES DR1 area)', clim=[-0.014, 0.02])\n",
    "pl.subplots_adjust(wspace=0.01, hspace=0.01)\n",
    "filename_plot = os.path.join('figure_example_maps.pdf')\n",
    "pl.savefig(filename_plot, bbox_inches='tight'); print('saved {}'.format(filename_plot))"
   ]
  },
  {
   "cell_type": "code",
   "execution_count": null,
   "metadata": {},
   "outputs": [],
   "source": [
    "print(1./hp.nside2npix(1))\n",
    "print(1./hp.nside2npix(2))\n",
    "print(1./hp.nside2npix(4))"
   ]
  },
  {
   "cell_type": "code",
   "execution_count": null,
   "metadata": {},
   "outputs": [],
   "source": [
    "44000*0.005"
   ]
  },
  {
   "cell_type": "code",
   "execution_count": null,
   "metadata": {},
   "outputs": [],
   "source": []
  }
 ],
 "metadata": {
  "anaconda-cloud": {},
  "kernelspec": {
   "display_name": "Python [Root]",
   "language": "python",
   "name": "Python [Root]"
  }
 },
 "nbformat": 4,
 "nbformat_minor": 2
}

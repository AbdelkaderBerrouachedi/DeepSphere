{
 "cells": [
  {
   "cell_type": "markdown",
   "metadata": {},
   "source": [
    "# Visualization of graph filters\n",
    "\n",
    "[Nathanaël Perraudin](http://perraudin.info), [Michaël Defferrard](http://deff.ch), Tomasz Kacprzak"
   ]
  },
  {
   "cell_type": "code",
   "execution_count": null,
   "metadata": {},
   "outputs": [],
   "source": [
    "%load_ext autoreload\n",
    "%autoreload 2\n",
    "%matplotlib inline"
   ]
  },
  {
   "cell_type": "code",
   "execution_count": null,
   "metadata": {},
   "outputs": [],
   "source": [
    "import numpy as np\n",
    "import matplotlib.pyplot as plt\n",
    "import healpy as hp\n",
    "import pygsp\n",
    "\n",
    "from scnn import utils"
   ]
  },
  {
   "cell_type": "code",
   "execution_count": null,
   "metadata": {},
   "outputs": [],
   "source": [
    "plt.rcParams['figure.figsize'] = (10, 10)"
   ]
  },
  {
   "cell_type": "markdown",
   "metadata": {},
   "source": [
    "Create the graph"
   ]
  },
  {
   "cell_type": "code",
   "execution_count": null,
   "metadata": {},
   "outputs": [],
   "source": [
    "G = utils.healpix_graph(nside=64)\n",
    "G.estimate_lmax()"
   ]
  },
  {
   "cell_type": "markdown",
   "metadata": {},
   "source": [
    "Create some dummy filters"
   ]
  },
  {
   "cell_type": "code",
   "execution_count": null,
   "metadata": {},
   "outputs": [],
   "source": [
    "tau = [1, 5, 10, 20, 50, 200, 1000]\n",
    "filters = pygsp.filters.Heat(G, tau=tau)\n",
    "fig, ax = plt.subplots()\n",
    "filters.plot(eigenvalues=False, sum=False, ax=ax)\n",
    "_ = ax.set_title('Filter frequency response')"
   ]
  },
  {
   "cell_type": "code",
   "execution_count": null,
   "metadata": {},
   "outputs": [],
   "source": [
    "def plot_filters_gnomonic(filters, order=10, ind=0):\n",
    "    \"\"\"Plot all filters in a filterbank in Gnomonic projection.\"\"\"\n",
    "    nside = hp.npix2nside(filters.G.N)\n",
    "    reso = hp.pixelfunc.nside2resol(nside=nside, arcmin=True) * order / 70\n",
    "    rot = hp.pix2ang(nside=nside, ipix=ind, nest=True, lonlat=True)\n",
    "    sy = int(np.ceil(np.sqrt(filters.Nf)))\n",
    "    sx = int(np.ceil(filters.Nf / sy))\n",
    "    maps = filters.localize(ind, order=order)\n",
    "    for i, map in enumerate(maps.T):\n",
    "        title = 'Filter {}'.format(i)\n",
    "        hp.gnomview(map, nest=True, rot=rot, reso=reso, sub=(sx, sy, i+1), title=title, notext=True)\n",
    "\n",
    "plot_filters_gnomonic(filters, order=30)"
   ]
  },
  {
   "cell_type": "code",
   "execution_count": null,
   "metadata": {},
   "outputs": [],
   "source": [
    "def plot_filters_section(filters, order=10):\n",
    "    \"\"\"Plot the sections of all filters in a filterbank.\"\"\"\n",
    "    \n",
    "    nside = hp.npix2nside(filters.G.N)\n",
    "    npix = hp.nside2npix(nside)\n",
    "    \n",
    "    # Create an inverse mapping from nest to ring.\n",
    "    index = hp.reorder(range(npix), n2r=True)\n",
    "    \n",
    "    # Localize the filter in the middle of the equator.\n",
    "    ind = index[npix // 2]\n",
    "    conv = filters.localize(ind, order=order)\n",
    "    \n",
    "    # Get the value on the equator back.\n",
    "    equator_part = range(npix//2-order, npix//2+order)\n",
    "    \n",
    "    # Make the x axis: angular position of the nodes in degree.\n",
    "    angle = hp.pix2ang(nside, equator_part, nest=False)[1]\n",
    "    angle -= abs(angle[-1] + angle[0]) / 2\n",
    "    angle = angle / np.pi / 2 * 360\n",
    "    \n",
    "    # Plot everything.\n",
    "    sy = int(np.ceil(np.sqrt(filters.Nf)))\n",
    "    sx = int(np.ceil(filters.Nf / sy))\n",
    "    fig, axes = plt.subplots(sx, sy)\n",
    "    for i, (y, ax) in enumerate(zip(conv[index[equator_part]].T, axes.flatten())):\n",
    "        ax.plot(angle, y)\n",
    "        ax.set_title('Filter {}'.format(i))\n",
    "        # ax.set_xlabel('Degree')\n",
    "    fig.suptitle('Sections of the {} filters in the filterbank'.format(filters.Nf), y=0.94)\n",
    "    return fig\n",
    "\n",
    "plot_filters_section(filters, order=30);"
   ]
  },
  {
   "cell_type": "markdown",
   "metadata": {},
   "source": [
    "We see the polynomial approximation error on the filter 6."
   ]
  }
 ],
 "metadata": {
  "kernelspec": {
   "display_name": "Python 3",
   "language": "python",
   "name": "python3"
  },
  "language_info": {
   "codemirror_mode": {
    "name": "ipython",
    "version": 3
   },
   "file_extension": ".py",
   "mimetype": "text/x-python",
   "name": "python",
   "nbconvert_exporter": "python",
   "pygments_lexer": "ipython3",
   "version": "3.5.2"
  }
 },
 "nbformat": 4,
 "nbformat_minor": 2
}

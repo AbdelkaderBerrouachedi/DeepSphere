{
 "cells": [
  {
   "cell_type": "markdown",
   "metadata": {},
   "source": [
    "# Spherical harmonics vs graph Fourier modes\n",
    "\n",
    "[Nathanaël Perraudin](http://perraudin.info), [Michaël Defferrard](http://deff.ch), Tomasz Kacprzak"
   ]
  },
  {
   "cell_type": "code",
   "execution_count": null,
   "metadata": {},
   "outputs": [],
   "source": [
    "%load_ext autoreload\n",
    "%autoreload 2\n",
    "%matplotlib inline"
   ]
  },
  {
   "cell_type": "code",
   "execution_count": null,
   "metadata": {},
   "outputs": [],
   "source": [
    "from time import time\n",
    "\n",
    "import numpy as np\n",
    "import matplotlib.pyplot as plt\n",
    "import healpy as hp\n",
    "import pygsp as pg\n",
    "\n",
    "from scnn import utils"
   ]
  },
  {
   "cell_type": "code",
   "execution_count": null,
   "metadata": {},
   "outputs": [],
   "source": [
    "plt.rcParams['figure.figsize'] = (17, 5)  # (9, 4) for matplotlib notebook\n",
    "\n",
    "nside = 16"
   ]
  },
  {
   "cell_type": "markdown",
   "metadata": {},
   "source": [
    "## 1 Spherical harmonics\n",
    "\n",
    "* Spherical harmonics are indexed by degree (or angular frequency) $\\ell$ and order $m \\in [0, \\ell]$.\n",
    "* $l=0$ is the constant, $l=1$ is the two monopoles, $l=2$ is the three dipoles, etc.\n",
    "* Coefficients are commonly defined as $a_{\\ell m}$.\n",
    "* A spherical harmonic takes value $Y_\\ell^m(\\theta, \\phi)$ in angular direction $(\\theta, \\phi)$."
   ]
  },
  {
   "cell_type": "code",
   "execution_count": null,
   "metadata": {},
   "outputs": [],
   "source": [
    "def plot_spherical_harmonic(nside, l, m):\n",
    "\n",
    "    lmax = l\n",
    "    idx = hp.sphtfunc.Alm.getidx(lmax, l, m)\n",
    "    size = hp.sphtfunc.Alm.getsize(lmax, mmax=lmax)\n",
    "    print(f'{size} spherical harmonics for l in [0, {lmax}]')\n",
    "    print('l={}, m={} is at index {}'.format(l, m, idx))\n",
    "\n",
    "    alm = np.zeros(size, dtype=np.complex128)\n",
    "    alm[idx] = 1\n",
    "\n",
    "    map = hp.sphtfunc.alm2map(alm, nside, lmax, verbose=False)\n",
    "    hp.mollview(map, title=f\"Spherical harmonic of degree l={l} and order m={m}\")\n",
    "    #hp.cartview(map, title=f\"Spherical harmonic l={l}, m={m}\")\n",
    "\n",
    "plot_spherical_harmonic(nside, l=2, m=0)"
   ]
  },
  {
   "cell_type": "markdown",
   "metadata": {},
   "source": [
    "Compute the spherical harmonics up to $\\ell_{max}$ and plot them."
   ]
  },
  {
   "cell_type": "code",
   "execution_count": null,
   "metadata": {},
   "outputs": [],
   "source": [
    "def compute_spherical_harmonics(nside, lmax):\n",
    "    \"\"\"Compute the spherical harmonics up to lmax.\n",
    "    \n",
    "    Returns\n",
    "    -------\n",
    "    harmonics: array of shape n_pixels x n_harmonics\n",
    "        Harmonics are in nested order.\n",
    "    \"\"\"\n",
    "\n",
    "    n_harmonics = np.sum(np.arange(1, lmax+2))\n",
    "    harmonics = np.empty((hp.nside2npix(nside), n_harmonics))\n",
    "    midx = 0\n",
    "\n",
    "    for l in range(lmax+1):\n",
    "        for m in range(l+1):\n",
    "            size = hp.sphtfunc.Alm.getsize(l, mmax=l)\n",
    "            alm = np.zeros(size, dtype=np.complex128)\n",
    "            idx = hp.sphtfunc.Alm.getidx(l, l, m)\n",
    "            alm[idx] = 1\n",
    "            harmonic = hp.sphtfunc.alm2map(alm, nside, l, verbose=False)\n",
    "            harmonics[:, midx] = hp.reorder(harmonic, r2n=True)\n",
    "            midx += 1\n",
    "\n",
    "    return harmonics\n",
    "\n",
    "harmonics = compute_spherical_harmonics(nside, lmax=18)\n",
    "harmonics.shape"
   ]
  },
  {
   "cell_type": "code",
   "execution_count": null,
   "metadata": {},
   "outputs": [],
   "source": [
    "def plot_spherical_harmonics(harmonics):\n",
    "    n_harmonics = harmonics.shape[1]\n",
    "    l, m = 0, 0\n",
    "    for idx in range(n_harmonics):\n",
    "        hp.mollview(harmonics[:, idx], \n",
    "                    title='Spherical harmonic l={}, m={}'.format(l, m),\n",
    "                    nest=True,\n",
    "                    sub=(np.sqrt(n_harmonics), np.sqrt(n_harmonics), idx+1),\n",
    "                    max=np.max(np.abs(harmonics[:, :n_harmonics])),\n",
    "                    min=-np.max(np.abs(harmonics[:, :n_harmonics])),\n",
    "                    cbar=False)\n",
    "        m += 1\n",
    "        if m > l:\n",
    "            l += 1\n",
    "            m = 0\n",
    "\n",
    "plot_spherical_harmonics(harmonics[:, :16])"
   ]
  },
  {
   "cell_type": "markdown",
   "metadata": {},
   "source": [
    "## 2 Graph Fourier modes\n",
    "\n",
    "The graph Fourier modes are the eigenvectors of the graph Laplacian.\n",
    "$$L = U \\Lambda U^T$$"
   ]
  },
  {
   "cell_type": "code",
   "execution_count": null,
   "metadata": {},
   "outputs": [],
   "source": [
    "graph = utils.healpix_graph(nside, lap_type='normalized', nest=True, dtype=np.float64)\n",
    "graph.compute_fourier_basis()"
   ]
  },
  {
   "cell_type": "markdown",
   "metadata": {},
   "source": [
    "The weighted adjacency matrix is very sparse. Distance between pixels is not constant."
   ]
  },
  {
   "cell_type": "code",
   "execution_count": null,
   "metadata": {},
   "outputs": [],
   "source": [
    "fig, axes = plt.subplots(1, 2)\n",
    "axes[0].imshow(graph.W.toarray())\n",
    "axes[1].hist(graph.W.data);"
   ]
  },
  {
   "cell_type": "markdown",
   "metadata": {},
   "source": [
    "Fourier modes of the graph."
   ]
  },
  {
   "cell_type": "code",
   "execution_count": null,
   "metadata": {},
   "outputs": [],
   "source": [
    "def plot_fourier_modes(eigenvectors):\n",
    "    n_eigenvectors = eigenvectors.shape[1]\n",
    "    l, m = 0, 0\n",
    "    for idx in range(n_eigenvectors):\n",
    "        hp.mollview(eigenvectors[:, idx], \n",
    "                    title='Eigenvector {}, e={:.2e} (l={}, m={})'.format(idx, graph.e[idx], l, m),\n",
    "                    nest=True,\n",
    "                    sub=(np.sqrt(n_eigenvectors), np.sqrt(n_eigenvectors), idx+1),\n",
    "                    max=np.max(np.abs(eigenvectors[:, :n_eigenvectors])),\n",
    "                    min=-np.max(np.abs(eigenvectors[:, :n_eigenvectors])),\n",
    "                    cbar=False)\n",
    "        m += 1\n",
    "        if m > l:\n",
    "            l += 1\n",
    "            m = -l\n",
    "\n",
    "plot_fourier_modes(graph.U[:, :16])"
   ]
  },
  {
   "cell_type": "markdown",
   "metadata": {},
   "source": [
    "The eigenvalues are clearly organized in groups, which corresponds to angular frequencies $\\ell$ of the spherical harmonics."
   ]
  },
  {
   "cell_type": "code",
   "execution_count": null,
   "metadata": {},
   "outputs": [],
   "source": [
    "plt.plot(graph.e[:50], '.-');"
   ]
  }
 ],
 "metadata": {
  "kernelspec": {
   "display_name": "Python 3",
   "language": "python",
   "name": "python3"
  },
  "language_info": {
   "codemirror_mode": {
    "name": "ipython",
    "version": 3
   },
   "file_extension": ".py",
   "mimetype": "text/x-python",
   "name": "python",
   "nbconvert_exporter": "python",
   "pygments_lexer": "ipython3",
   "version": "3.6.5"
  }
 },
 "nbformat": 4,
 "nbformat_minor": 2
}

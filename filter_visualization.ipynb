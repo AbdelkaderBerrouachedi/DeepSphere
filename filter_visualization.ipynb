{
 "cells": [
  {
   "cell_type": "markdown",
   "metadata": {},
   "source": [
    "# Visualization of graph filters\n",
    "\n",
    "[Nathanaël Perraudin](http://perraudin.info), [Michaël Defferrard](http://deff.ch), Tomasz Kacprzak"
   ]
  },
  {
   "cell_type": "code",
   "execution_count": null,
   "metadata": {},
   "outputs": [],
   "source": [
    "%load_ext autoreload\n",
    "%autoreload 2\n",
    "%matplotlib inline"
   ]
  },
  {
   "cell_type": "code",
   "execution_count": null,
   "metadata": {},
   "outputs": [],
   "source": [
    "import pygsp\n",
    "import healpy as hp\n",
    "from scnn import utils\n",
    "import matplotlib.pyplot as plt\n",
    "import numpy as np\n"
   ]
  },
  {
   "cell_type": "code",
   "execution_count": null,
   "metadata": {},
   "outputs": [],
   "source": [
    "plt.rcParams['figure.figsize'] = (10, 10)"
   ]
  },
  {
   "cell_type": "markdown",
   "metadata": {},
   "source": [
    "Create the graph"
   ]
  },
  {
   "cell_type": "code",
   "execution_count": null,
   "metadata": {},
   "outputs": [],
   "source": [
    "Nside = 64\n",
    "G = utils.healpix_graph(nside=Nside)"
   ]
  },
  {
   "cell_type": "markdown",
   "metadata": {},
   "source": [
    "Create some dummy filters"
   ]
  },
  {
   "cell_type": "code",
   "execution_count": null,
   "metadata": {},
   "outputs": [],
   "source": [
    "tau = [1,5,10,20,50,200,1000]\n",
    "hf = pygsp.filters.Heat(G, tau=tau)\n",
    "fig, ax = plt.subplots()\n",
    "hf.plot(eigenvalues=False, sum=False, ax=ax)\n",
    "_ = ax.set_title('Filter frequency response')"
   ]
  },
  {
   "cell_type": "code",
   "execution_count": null,
   "metadata": {},
   "outputs": [],
   "source": [
    "order = 30\n",
    "ind0 = 0\n",
    "def localize_filter(hf, ind0=0, order=10):\n",
    "    sig = np.zeros([hf.G.N])\n",
    "    sig[ind0]=1\n",
    "    conv = hf.analyze(sig,order=order)\n",
    "    return conv\n",
    "conv = localize_filter(hf, ind0, order)\n",
    "\n",
    "def plot_filters(conv, ind0=0, order=10):\n",
    "    Nside = hp.npix2nside(conv.shape[0])\n",
    "    nfilt = conv.shape[1]\n",
    "    reso = hp.pixelfunc.nside2resol(nside=Nside,arcmin=True)*order/70\n",
    "    colatitude_deg, longitude_deg = hp.pix2ang(nside=Nside,ipix = ind0, nest=True, lonlat=True)\n",
    "    rot=[colatitude_deg, longitude_deg]\n",
    "    print(rot)\n",
    "    sy = int(np.ceil(np.sqrt(nfilt)))\n",
    "    sx = int(np.ceil(nfilt/sy))\n",
    "    for i in range(nfilt):\n",
    "        hp.gnomview(conv[:,i], nest=True, rot=rot, reso=reso, sub=(sx,sy,i+1), title='Filter {}'.format(i), notext=True)\n",
    "plot_filters(conv, ind0=ind0, order=order)"
   ]
  },
  {
   "cell_type": "code",
   "execution_count": null,
   "metadata": {},
   "outputs": [],
   "source": [
    "def plot_filers_section(hf, order=10):\n",
    "    Nside = hp.npix2nside(hf.G.N)\n",
    "    npix = hp.nside2npix(Nside)\n",
    "    # Create an inverse mapping from nest to ring\n",
    "    index = hp.reorder(list(range(npix)), n2r=True)\n",
    "    # Select the point in the middle of the equator\n",
    "    ind1 = index[npix//2]\n",
    "    # Localize the filter\n",
    "    conv = localize_filter(hf, ind0=ind1, order=order)\n",
    "    # Get the value on the equator back\n",
    "    val = order\n",
    "    equator_part = list(range(npix//2-val,npix//2+val))\n",
    "    nfilt = conv.shape[1] # number of filers\n",
    "    # Make the x axis (angular position of the nodes in degree)\n",
    "    rad = [hp.pix2ang(Nside,el,nest=False)[1] for el in equator_part]\n",
    "    rad_middle = abs(rad[-1]+rad[0])/2\n",
    "    x_axis = [(el-rad_middle)/np.pi/2*360 for el in rad]\n",
    "    # Plot everything\n",
    "    sy = int(np.ceil(np.sqrt(nfilt)))\n",
    "    sx = int(np.ceil(nfilt/sy))\n",
    "    fig, axes = plt.subplots(sx, sy)\n",
    "    el = 0\n",
    "    for i in range(sx):\n",
    "        for j in range(sy):\n",
    "            axes[i,j].plot(x_axis,conv[index[equator_part],el])\n",
    "            axes[i,j].set_title('Filter {}'.format(el))\n",
    "#             axes[i,j].set_xlabel('Degree')\n",
    "            el = el+1\n",
    "            if el==nfilt:\n",
    "                break\n",
    "plot_filers_section(hf,order)"
   ]
  },
  {
   "cell_type": "markdown",
   "metadata": {},
   "source": [
    "We see the polynomial approximation error on the filter 6."
   ]
  },
  {
   "cell_type": "code",
   "execution_count": null,
   "metadata": {},
   "outputs": [],
   "source": []
  }
 ],
 "metadata": {
  "kernelspec": {
   "display_name": "Python 3",
   "language": "python",
   "name": "python3"
  },
  "language_info": {
   "codemirror_mode": {
    "name": "ipython",
    "version": 3
   },
   "file_extension": ".py",
   "mimetype": "text/x-python",
   "name": "python",
   "nbconvert_exporter": "python",
   "pygments_lexer": "ipython3",
   "version": "3.5.2"
  }
 },
 "nbformat": 4,
 "nbformat_minor": 2
}
